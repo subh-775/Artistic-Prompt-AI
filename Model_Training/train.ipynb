{
 "cells": [
  {
   "cell_type": "code",
   "execution_count": 1,
   "id": "152d72cf-3ac9-4f78-8239-1c6af4a65eb1",
   "metadata": {},
   "outputs": [
    {
     "name": "stdout",
     "output_type": "stream",
     "text": [
      "Cloning into 'diffusers'...\n",
      "remote: Enumerating objects: 74941, done.\u001b[K\n",
      "remote: Counting objects: 100% (1567/1567), done.\u001b[K\n",
      "remote: Compressing objects: 100% (749/749), done.\u001b[K\n",
      "remote: Total 74941 (delta 1024), reused 1126 (delta 680), pack-reused 73374 (from 1)\u001b[K\n",
      "Receiving objects: 100% (74941/74941), 52.67 MiB | 19.30 MiB/s, done.\n",
      "Resolving deltas: 100% (55396/55396), done.\n",
      "Obtaining file:///\n",
      "\u001b[31mERROR: file:/// does not appear to be a Python project: neither 'setup.py' nor 'pyproject.toml' found.\u001b[0m\u001b[31m\n",
      "\u001b[0m"
     ]
    }
   ],
   "source": [
    "!git clone https://github.com/huggingface/diffusers"
   ]
  },
  {
   "cell_type": "code",
   "execution_count": 1,
   "id": "d568d388-c1fb-4d80-9540-e403bc08f161",
   "metadata": {},
   "outputs": [
    {
     "name": "stdout",
     "output_type": "stream",
     "text": [
      "/diffusers\n"
     ]
    }
   ],
   "source": [
    "%cd diffusers\n"
   ]
  },
  {
   "cell_type": "code",
   "execution_count": null,
   "id": "c561a1d8-9fbc-40e5-b86a-916978cf0e63",
   "metadata": {},
   "outputs": [],
   "source": [
    "!pip install -e ."
   ]
  },
  {
   "cell_type": "code",
   "execution_count": 2,
   "id": "88c4e949-8700-4413-86af-1820cd85f334",
   "metadata": {},
   "outputs": [
    {
     "name": "stdout",
     "output_type": "stream",
     "text": [
      "/diffusers/examples/controlnet\n",
      "Requirement already satisfied: accelerate>=0.16.0 in /opt/conda/lib/python3.11/site-packages (from -r requirements_flux.txt (line 1)) (1.1.1)\n",
      "Requirement already satisfied: torchvision in /opt/conda/lib/python3.11/site-packages (from -r requirements_flux.txt (line 2)) (0.20.1+cu124)\n",
      "Requirement already satisfied: transformers>=4.25.1 in /opt/conda/lib/python3.11/site-packages (from -r requirements_flux.txt (line 3)) (4.46.3)\n",
      "Requirement already satisfied: ftfy in /opt/conda/lib/python3.11/site-packages (from -r requirements_flux.txt (line 4)) (6.3.1)\n",
      "Requirement already satisfied: tensorboard in /opt/conda/lib/python3.11/site-packages (from -r requirements_flux.txt (line 5)) (2.18.0)\n",
      "Requirement already satisfied: Jinja2 in /opt/conda/lib/python3.11/site-packages (from -r requirements_flux.txt (line 6)) (3.1.4)\n",
      "Requirement already satisfied: datasets in /opt/conda/lib/python3.11/site-packages (from -r requirements_flux.txt (line 7)) (3.1.0)\n",
      "Requirement already satisfied: wandb in /opt/conda/lib/python3.11/site-packages (from -r requirements_flux.txt (line 8)) (0.18.7)\n",
      "Requirement already satisfied: SentencePiece in /opt/conda/lib/python3.11/site-packages (from -r requirements_flux.txt (line 9)) (0.2.0)\n",
      "Requirement already satisfied: huggingface-hub>=0.21.0 in /opt/conda/lib/python3.11/site-packages (from accelerate>=0.16.0->-r requirements_flux.txt (line 1)) (0.26.2)\n",
      "Requirement already satisfied: numpy<3.0.0,>=1.17 in /opt/conda/lib/python3.11/site-packages (from accelerate>=0.16.0->-r requirements_flux.txt (line 1)) (2.1.2)\n",
      "Requirement already satisfied: packaging>=20.0 in /opt/conda/lib/python3.11/site-packages (from accelerate>=0.16.0->-r requirements_flux.txt (line 1)) (24.1)\n",
      "Requirement already satisfied: psutil in /opt/conda/lib/python3.11/site-packages (from accelerate>=0.16.0->-r requirements_flux.txt (line 1)) (6.1.0)\n",
      "Requirement already satisfied: pyyaml in /opt/conda/lib/python3.11/site-packages (from accelerate>=0.16.0->-r requirements_flux.txt (line 1)) (6.0.2)\n",
      "Requirement already satisfied: safetensors>=0.4.3 in /opt/conda/lib/python3.11/site-packages (from accelerate>=0.16.0->-r requirements_flux.txt (line 1)) (0.4.5)\n",
      "Requirement already satisfied: torch>=1.10.0 in /opt/conda/lib/python3.11/site-packages (from accelerate>=0.16.0->-r requirements_flux.txt (line 1)) (2.5.1+cu124)\n",
      "Requirement already satisfied: pillow!=8.3.*,>=5.3.0 in /opt/conda/lib/python3.11/site-packages (from torchvision->-r requirements_flux.txt (line 2)) (10.2.0)\n",
      "Requirement already satisfied: filelock in /opt/conda/lib/python3.11/site-packages (from torch>=1.10.0->accelerate>=0.16.0->-r requirements_flux.txt (line 1)) (3.16.1)\n",
      "Requirement already satisfied: typing-extensions>=4.8.0 in /opt/conda/lib/python3.11/site-packages (from torch>=1.10.0->accelerate>=0.16.0->-r requirements_flux.txt (line 1)) (4.12.2)\n",
      "Requirement already satisfied: networkx in /opt/conda/lib/python3.11/site-packages (from torch>=1.10.0->accelerate>=0.16.0->-r requirements_flux.txt (line 1)) (3.4.2)\n",
      "Requirement already satisfied: fsspec in /opt/conda/lib/python3.11/site-packages (from torch>=1.10.0->accelerate>=0.16.0->-r requirements_flux.txt (line 1)) (2024.9.0)\n",
      "Requirement already satisfied: nvidia-cuda-nvrtc-cu12==12.4.127 in /opt/conda/lib/python3.11/site-packages (from torch>=1.10.0->accelerate>=0.16.0->-r requirements_flux.txt (line 1)) (12.4.127)\n",
      "Requirement already satisfied: nvidia-cuda-runtime-cu12==12.4.127 in /opt/conda/lib/python3.11/site-packages (from torch>=1.10.0->accelerate>=0.16.0->-r requirements_flux.txt (line 1)) (12.4.127)\n",
      "Requirement already satisfied: nvidia-cuda-cupti-cu12==12.4.127 in /opt/conda/lib/python3.11/site-packages (from torch>=1.10.0->accelerate>=0.16.0->-r requirements_flux.txt (line 1)) (12.4.127)\n",
      "Requirement already satisfied: nvidia-cudnn-cu12==9.1.0.70 in /opt/conda/lib/python3.11/site-packages (from torch>=1.10.0->accelerate>=0.16.0->-r requirements_flux.txt (line 1)) (9.1.0.70)\n",
      "Requirement already satisfied: nvidia-cublas-cu12==12.4.5.8 in /opt/conda/lib/python3.11/site-packages (from torch>=1.10.0->accelerate>=0.16.0->-r requirements_flux.txt (line 1)) (12.4.5.8)\n",
      "Requirement already satisfied: nvidia-cufft-cu12==11.2.1.3 in /opt/conda/lib/python3.11/site-packages (from torch>=1.10.0->accelerate>=0.16.0->-r requirements_flux.txt (line 1)) (11.2.1.3)\n",
      "Requirement already satisfied: nvidia-curand-cu12==10.3.5.147 in /opt/conda/lib/python3.11/site-packages (from torch>=1.10.0->accelerate>=0.16.0->-r requirements_flux.txt (line 1)) (10.3.5.147)\n",
      "Requirement already satisfied: nvidia-cusolver-cu12==11.6.1.9 in /opt/conda/lib/python3.11/site-packages (from torch>=1.10.0->accelerate>=0.16.0->-r requirements_flux.txt (line 1)) (11.6.1.9)\n",
      "Requirement already satisfied: nvidia-cusparse-cu12==12.3.1.170 in /opt/conda/lib/python3.11/site-packages (from torch>=1.10.0->accelerate>=0.16.0->-r requirements_flux.txt (line 1)) (12.3.1.170)\n",
      "Requirement already satisfied: nvidia-nccl-cu12==2.21.5 in /opt/conda/lib/python3.11/site-packages (from torch>=1.10.0->accelerate>=0.16.0->-r requirements_flux.txt (line 1)) (2.21.5)\n",
      "Requirement already satisfied: nvidia-nvtx-cu12==12.4.127 in /opt/conda/lib/python3.11/site-packages (from torch>=1.10.0->accelerate>=0.16.0->-r requirements_flux.txt (line 1)) (12.4.127)\n",
      "Requirement already satisfied: nvidia-nvjitlink-cu12==12.4.127 in /opt/conda/lib/python3.11/site-packages (from torch>=1.10.0->accelerate>=0.16.0->-r requirements_flux.txt (line 1)) (12.4.127)\n",
      "Requirement already satisfied: triton==3.1.0 in /opt/conda/lib/python3.11/site-packages (from torch>=1.10.0->accelerate>=0.16.0->-r requirements_flux.txt (line 1)) (3.1.0)\n",
      "Requirement already satisfied: sympy==1.13.1 in /opt/conda/lib/python3.11/site-packages (from torch>=1.10.0->accelerate>=0.16.0->-r requirements_flux.txt (line 1)) (1.13.1)\n",
      "Requirement already satisfied: mpmath<1.4,>=1.1.0 in /opt/conda/lib/python3.11/site-packages (from sympy==1.13.1->torch>=1.10.0->accelerate>=0.16.0->-r requirements_flux.txt (line 1)) (1.3.0)\n",
      "Requirement already satisfied: regex!=2019.12.17 in /opt/conda/lib/python3.11/site-packages (from transformers>=4.25.1->-r requirements_flux.txt (line 3)) (2024.11.6)\n",
      "Requirement already satisfied: requests in /opt/conda/lib/python3.11/site-packages (from transformers>=4.25.1->-r requirements_flux.txt (line 3)) (2.32.3)\n",
      "Requirement already satisfied: tokenizers<0.21,>=0.20 in /opt/conda/lib/python3.11/site-packages (from transformers>=4.25.1->-r requirements_flux.txt (line 3)) (0.20.3)\n",
      "Requirement already satisfied: tqdm>=4.27 in /opt/conda/lib/python3.11/site-packages (from transformers>=4.25.1->-r requirements_flux.txt (line 3)) (4.66.5)\n",
      "Requirement already satisfied: wcwidth in /opt/conda/lib/python3.11/site-packages (from ftfy->-r requirements_flux.txt (line 4)) (0.2.13)\n",
      "Requirement already satisfied: absl-py>=0.4 in /opt/conda/lib/python3.11/site-packages (from tensorboard->-r requirements_flux.txt (line 5)) (2.1.0)\n",
      "Requirement already satisfied: grpcio>=1.48.2 in /opt/conda/lib/python3.11/site-packages (from tensorboard->-r requirements_flux.txt (line 5)) (1.68.0)\n",
      "Requirement already satisfied: markdown>=2.6.8 in /opt/conda/lib/python3.11/site-packages (from tensorboard->-r requirements_flux.txt (line 5)) (3.7)\n",
      "Requirement already satisfied: protobuf!=4.24.0,>=3.19.6 in /opt/conda/lib/python3.11/site-packages (from tensorboard->-r requirements_flux.txt (line 5)) (5.28.3)\n",
      "Requirement already satisfied: setuptools>=41.0.0 in /opt/conda/lib/python3.11/site-packages (from tensorboard->-r requirements_flux.txt (line 5)) (72.1.0)\n",
      "Requirement already satisfied: six>1.9 in /opt/conda/lib/python3.11/site-packages (from tensorboard->-r requirements_flux.txt (line 5)) (1.16.0)\n",
      "Requirement already satisfied: tensorboard-data-server<0.8.0,>=0.7.0 in /opt/conda/lib/python3.11/site-packages (from tensorboard->-r requirements_flux.txt (line 5)) (0.7.2)\n",
      "Requirement already satisfied: werkzeug>=1.0.1 in /opt/conda/lib/python3.11/site-packages (from tensorboard->-r requirements_flux.txt (line 5)) (3.1.3)\n",
      "Requirement already satisfied: MarkupSafe>=2.0 in /opt/conda/lib/python3.11/site-packages (from Jinja2->-r requirements_flux.txt (line 6)) (3.0.2)\n",
      "Requirement already satisfied: pyarrow>=15.0.0 in /opt/conda/lib/python3.11/site-packages (from datasets->-r requirements_flux.txt (line 7)) (18.1.0)\n",
      "Requirement already satisfied: dill<0.3.9,>=0.3.0 in /opt/conda/lib/python3.11/site-packages (from datasets->-r requirements_flux.txt (line 7)) (0.3.8)\n",
      "Requirement already satisfied: pandas in /opt/conda/lib/python3.11/site-packages (from datasets->-r requirements_flux.txt (line 7)) (2.2.3)\n",
      "Requirement already satisfied: xxhash in /opt/conda/lib/python3.11/site-packages (from datasets->-r requirements_flux.txt (line 7)) (3.5.0)\n",
      "Requirement already satisfied: multiprocess<0.70.17 in /opt/conda/lib/python3.11/site-packages (from datasets->-r requirements_flux.txt (line 7)) (0.70.16)\n",
      "Requirement already satisfied: aiohttp in /opt/conda/lib/python3.11/site-packages (from datasets->-r requirements_flux.txt (line 7)) (3.11.7)\n",
      "Requirement already satisfied: click!=8.0.0,>=7.1 in /opt/conda/lib/python3.11/site-packages (from wandb->-r requirements_flux.txt (line 8)) (8.1.7)\n",
      "Requirement already satisfied: docker-pycreds>=0.4.0 in /opt/conda/lib/python3.11/site-packages (from wandb->-r requirements_flux.txt (line 8)) (0.4.0)\n",
      "Requirement already satisfied: gitpython!=3.1.29,>=1.0.0 in /opt/conda/lib/python3.11/site-packages (from wandb->-r requirements_flux.txt (line 8)) (3.1.43)\n",
      "Requirement already satisfied: platformdirs in /opt/conda/lib/python3.11/site-packages (from wandb->-r requirements_flux.txt (line 8)) (4.3.6)\n",
      "Requirement already satisfied: sentry-sdk>=2.0.0 in /opt/conda/lib/python3.11/site-packages (from wandb->-r requirements_flux.txt (line 8)) (2.19.0)\n",
      "Requirement already satisfied: setproctitle in /opt/conda/lib/python3.11/site-packages (from wandb->-r requirements_flux.txt (line 8)) (1.3.4)\n",
      "Requirement already satisfied: aiohappyeyeballs>=2.3.0 in /opt/conda/lib/python3.11/site-packages (from aiohttp->datasets->-r requirements_flux.txt (line 7)) (2.4.3)\n",
      "Requirement already satisfied: aiosignal>=1.1.2 in /opt/conda/lib/python3.11/site-packages (from aiohttp->datasets->-r requirements_flux.txt (line 7)) (1.3.1)\n",
      "Requirement already satisfied: attrs>=17.3.0 in /opt/conda/lib/python3.11/site-packages (from aiohttp->datasets->-r requirements_flux.txt (line 7)) (24.2.0)\n",
      "Requirement already satisfied: frozenlist>=1.1.1 in /opt/conda/lib/python3.11/site-packages (from aiohttp->datasets->-r requirements_flux.txt (line 7)) (1.5.0)\n",
      "Requirement already satisfied: multidict<7.0,>=4.5 in /opt/conda/lib/python3.11/site-packages (from aiohttp->datasets->-r requirements_flux.txt (line 7)) (6.1.0)\n",
      "Requirement already satisfied: propcache>=0.2.0 in /opt/conda/lib/python3.11/site-packages (from aiohttp->datasets->-r requirements_flux.txt (line 7)) (0.2.0)\n",
      "Requirement already satisfied: yarl<2.0,>=1.17.0 in /opt/conda/lib/python3.11/site-packages (from aiohttp->datasets->-r requirements_flux.txt (line 7)) (1.18.0)\n",
      "Requirement already satisfied: gitdb<5,>=4.0.1 in /opt/conda/lib/python3.11/site-packages (from gitpython!=3.1.29,>=1.0.0->wandb->-r requirements_flux.txt (line 8)) (4.0.11)\n",
      "Requirement already satisfied: charset-normalizer<4,>=2 in /opt/conda/lib/python3.11/site-packages (from requests->transformers>=4.25.1->-r requirements_flux.txt (line 3)) (3.4.0)\n",
      "Requirement already satisfied: idna<4,>=2.5 in /opt/conda/lib/python3.11/site-packages (from requests->transformers>=4.25.1->-r requirements_flux.txt (line 3)) (3.10)\n",
      "Requirement already satisfied: urllib3<3,>=1.21.1 in /opt/conda/lib/python3.11/site-packages (from requests->transformers>=4.25.1->-r requirements_flux.txt (line 3)) (2.2.3)\n",
      "Requirement already satisfied: certifi>=2017.4.17 in /opt/conda/lib/python3.11/site-packages (from requests->transformers>=4.25.1->-r requirements_flux.txt (line 3)) (2024.8.30)\n",
      "Requirement already satisfied: python-dateutil>=2.8.2 in /opt/conda/lib/python3.11/site-packages (from pandas->datasets->-r requirements_flux.txt (line 7)) (2.9.0.post0)\n",
      "Requirement already satisfied: pytz>=2020.1 in /opt/conda/lib/python3.11/site-packages (from pandas->datasets->-r requirements_flux.txt (line 7)) (2024.2)\n",
      "Requirement already satisfied: tzdata>=2022.7 in /opt/conda/lib/python3.11/site-packages (from pandas->datasets->-r requirements_flux.txt (line 7)) (2024.2)\n",
      "Requirement already satisfied: smmap<6,>=3.0.1 in /opt/conda/lib/python3.11/site-packages (from gitdb<5,>=4.0.1->gitpython!=3.1.29,>=1.0.0->wandb->-r requirements_flux.txt (line 8)) (5.0.1)\n",
      "\u001b[33mWARNING: Running pip as the 'root' user can result in broken permissions and conflicting behaviour with the system package manager, possibly rendering your system unusable.It is recommended to use a virtual environment instead: https://pip.pypa.io/warnings/venv. Use the --root-user-action option if you know what you are doing and want to suppress this warning.\u001b[0m\u001b[33m\n",
      "\u001b[0m"
     ]
    }
   ],
   "source": [
    "%cd examples/controlnet\n",
    "!pip install -r requirements_flux.txt"
   ]
  },
  {
   "cell_type": "code",
   "execution_count": 3,
   "id": "c7fa114f-d8e7-45ec-8517-55ab8e272b58",
   "metadata": {},
   "outputs": [
    {
     "name": "stdout",
     "output_type": "stream",
     "text": [
      "Configuration already exists at /root/.cache/huggingface/accelerate/default_config.yaml, will not override. Run `accelerate config` manually or pass a different `save_location`.\n"
     ]
    },
    {
     "data": {
      "text/plain": [
       "False"
      ]
     },
     "execution_count": 3,
     "metadata": {},
     "output_type": "execute_result"
    }
   ],
   "source": [
    "from accelerate.utils import write_basic_config\n",
    "write_basic_config()"
   ]
  },
  {
   "cell_type": "code",
   "execution_count": 14,
   "id": "b240d35b-280d-4dad-a482-e9ea09518256",
   "metadata": {},
   "outputs": [
    {
     "name": "stdout",
     "output_type": "stream",
     "text": [
      "README.md\t  requirements_flax.txt  train_controlnet.py\n",
      "README_flux.md\t  requirements_flux.txt  train_controlnet_flax.py\n",
      "README_sd3.md\t  requirements_sd3.txt\t train_controlnet_flux.py\n",
      "README_sdxl.md\t  requirements_sdxl.txt  train_controlnet_sd3.py\n",
      "requirements.txt  test_controlnet.py\t train_controlnet_sdxl.py\n"
     ]
    }
   ],
   "source": [
    "!ls"
   ]
  },
  {
   "cell_type": "code",
   "execution_count": 4,
   "id": "6ddcaece-1217-476d-b8dd-1a6b138213ac",
   "metadata": {},
   "outputs": [
    {
     "data": {
      "application/vnd.jupyter.widget-view+json": {
       "model_id": "c1ef3c4e2d8d42d396116a8110104e5f",
       "version_major": 2,
       "version_minor": 0
      },
      "text/plain": [
       "VBox(children=(HTML(value='<center> <img\\nsrc=https://huggingface.co/front/assets/huggingface_logo-noborder.sv…"
      ]
     },
     "metadata": {},
     "output_type": "display_data"
    }
   ],
   "source": [
    "from huggingface_hub import notebook_login\n",
    "notebook_login()"
   ]
  },
  {
   "cell_type": "code",
   "execution_count": null,
   "id": "9ecd5bed-f2c5-4e85-9997-8e2ffd3699d3",
   "metadata": {},
   "outputs": [],
   "source": [
    "(Enter_your_Hf_Tokens) #for references only"
   ]
  },
  {
   "cell_type": "code",
   "execution_count": null,
   "id": "5de6d775-94d9-4b97-b063-c49bb686b9fd",
   "metadata": {},
   "outputs": [
    {
     "name": "stderr",
     "output_type": "stream",
     "text": [
      "Failed to detect the name of this notebook, you can set it manually with the WANDB_NOTEBOOK_NAME environment variable to enable code saving.\n",
      "\u001b[34m\u001b[1mwandb\u001b[0m: Using wandb-core as the SDK backend.  Please refer to https://wandb.me/wandb-core for more information.\n",
      "\u001b[34m\u001b[1mwandb\u001b[0m: Currently logged in as: \u001b[33mfhai50032\u001b[0m. Use \u001b[1m`wandb login --relogin`\u001b[0m to force relogin\n",
      "\u001b[34m\u001b[1mwandb\u001b[0m: \u001b[33mWARNING\u001b[0m If you're specifying your api key in code, ensure this code is not shared publicly.\n",
      "\u001b[34m\u001b[1mwandb\u001b[0m: \u001b[33mWARNING\u001b[0m Consider setting the WANDB_API_KEY environment variable, or running `wandb login` from the command line.\n",
      "\u001b[34m\u001b[1mwandb\u001b[0m: Appending key for api.wandb.ai to your netrc file: /root/.netrc\n"
     ]
    },
    {
     "data": {
      "text/plain": [
       "True"
      ]
     },
     "execution_count": 5,
     "metadata": {},
     "output_type": "execute_result"
    }
   ],
   "source": [
    "import wandb \n",
    "wandb.login(key=\"Use-your_wandb_key\")"
   ]
  },
  {
   "cell_type": "code",
   "execution_count": 6,
   "id": "31df7a50-0b5c-49ce-8a52-d0112461a622",
   "metadata": {},
   "outputs": [
    {
     "name": "stdout",
     "output_type": "stream",
     "text": [
      "usage: train_controlnet_flux.py [-h] --pretrained_model_name_or_path\n",
      "                                PRETRAINED_MODEL_NAME_OR_PATH\n",
      "                                [--pretrained_vae_model_name_or_path PRETRAINED_VAE_MODEL_NAME_OR_PATH]\n",
      "                                [--controlnet_model_name_or_path CONTROLNET_MODEL_NAME_OR_PATH]\n",
      "                                [--variant VARIANT] [--revision REVISION]\n",
      "                                [--tokenizer_name TOKENIZER_NAME]\n",
      "                                [--output_dir OUTPUT_DIR]\n",
      "                                [--cache_dir CACHE_DIR] [--seed SEED]\n",
      "                                [--resolution RESOLUTION]\n",
      "                                [--crops_coords_top_left_h CROPS_COORDS_TOP_LEFT_H]\n",
      "                                [--crops_coords_top_left_w CROPS_COORDS_TOP_LEFT_W]\n",
      "                                [--train_batch_size TRAIN_BATCH_SIZE]\n",
      "                                [--num_train_epochs NUM_TRAIN_EPOCHS]\n",
      "                                [--max_train_steps MAX_TRAIN_STEPS]\n",
      "                                [--checkpointing_steps CHECKPOINTING_STEPS]\n",
      "                                [--checkpoints_total_limit CHECKPOINTS_TOTAL_LIMIT]\n",
      "                                [--resume_from_checkpoint RESUME_FROM_CHECKPOINT]\n",
      "                                [--gradient_accumulation_steps GRADIENT_ACCUMULATION_STEPS]\n",
      "                                [--gradient_checkpointing]\n",
      "                                [--learning_rate LEARNING_RATE] [--scale_lr]\n",
      "                                [--lr_scheduler LR_SCHEDULER]\n",
      "                                [--lr_warmup_steps LR_WARMUP_STEPS]\n",
      "                                [--lr_num_cycles LR_NUM_CYCLES]\n",
      "                                [--lr_power LR_POWER] [--use_8bit_adam]\n",
      "                                [--use_adafactor]\n",
      "                                [--dataloader_num_workers DATALOADER_NUM_WORKERS]\n",
      "                                [--adam_beta1 ADAM_BETA1]\n",
      "                                [--adam_beta2 ADAM_BETA2]\n",
      "                                [--adam_weight_decay ADAM_WEIGHT_DECAY]\n",
      "                                [--adam_epsilon ADAM_EPSILON]\n",
      "                                [--max_grad_norm MAX_GRAD_NORM]\n",
      "                                [--push_to_hub] [--hub_token HUB_TOKEN]\n",
      "                                [--hub_model_id HUB_MODEL_ID]\n",
      "                                [--logging_dir LOGGING_DIR] [--allow_tf32]\n",
      "                                [--report_to REPORT_TO]\n",
      "                                [--mixed_precision {no,fp16,bf16}]\n",
      "                                [--enable_xformers_memory_efficient_attention]\n",
      "                                [--enable_npu_flash_attention]\n",
      "                                [--set_grads_to_none]\n",
      "                                [--dataset_name DATASET_NAME]\n",
      "                                [--dataset_config_name DATASET_CONFIG_NAME]\n",
      "                                [--image_column IMAGE_COLUMN]\n",
      "                                [--conditioning_image_column CONDITIONING_IMAGE_COLUMN]\n",
      "                                [--caption_column CAPTION_COLUMN]\n",
      "                                [--max_train_samples MAX_TRAIN_SAMPLES]\n",
      "                                [--proportion_empty_prompts PROPORTION_EMPTY_PROMPTS]\n",
      "                                [--validation_prompt VALIDATION_PROMPT [VALIDATION_PROMPT ...]]\n",
      "                                [--validation_image VALIDATION_IMAGE [VALIDATION_IMAGE ...]]\n",
      "                                [--num_double_layers NUM_DOUBLE_LAYERS]\n",
      "                                [--num_single_layers NUM_SINGLE_LAYERS]\n",
      "                                [--num_validation_images NUM_VALIDATION_IMAGES]\n",
      "                                [--validation_steps VALIDATION_STEPS]\n",
      "                                [--tracker_project_name TRACKER_PROJECT_NAME]\n",
      "                                [--jsonl_for_train JSONL_FOR_TRAIN]\n",
      "                                [--guidance_scale GUIDANCE_SCALE]\n",
      "                                [--save_weight_dtype {fp16,bf16,fp32}]\n",
      "                                [--weighting_scheme {sigma_sqrt,logit_normal,mode,cosmap,none}]\n",
      "                                [--logit_mean LOGIT_MEAN]\n",
      "                                [--logit_std LOGIT_STD]\n",
      "                                [--mode_scale MODE_SCALE]\n",
      "                                [--enable_model_cpu_offload]\n",
      "train_controlnet_flux.py: error: the following arguments are required: --pretrained_model_name_or_path\n",
      "Traceback (most recent call last):\n",
      "  File \"/opt/conda/bin/accelerate\", line 8, in <module>\n",
      "    sys.exit(main())\n",
      "             ^^^^^^\n",
      "  File \"/opt/conda/lib/python3.11/site-packages/accelerate/commands/accelerate_cli.py\", line 48, in main\n",
      "    args.func(args)\n",
      "  File \"/opt/conda/lib/python3.11/site-packages/accelerate/commands/launch.py\", line 1168, in launch_command\n",
      "    simple_launcher(args)\n",
      "  File \"/opt/conda/lib/python3.11/site-packages/accelerate/commands/launch.py\", line 763, in simple_launcher\n",
      "    raise subprocess.CalledProcessError(returncode=process.returncode, cmd=cmd)\n",
      "subprocess.CalledProcessError: Command '['/opt/conda/bin/python3.11', 'train_controlnet_flux.py']' returned non-zero exit status 2.\n"
     ]
    }
   ],
   "source": [
    "!accelerate launch train_controlnet_flux.py"
   ]
  },
  {
   "cell_type": "code",
   "execution_count": 8,
   "id": "8c3093f2-f3a3-4b54-9b25-9b5420c2cbca",
   "metadata": {},
   "outputs": [
    {
     "name": "stdout",
     "output_type": "stream",
     "text": [
      "Collecting bitsandbytes\n",
      "  Downloading bitsandbytes-0.44.1-py3-none-manylinux_2_24_x86_64.whl.metadata (3.5 kB)\n",
      "Requirement already satisfied: torch in /opt/conda/lib/python3.11/site-packages (from bitsandbytes) (2.5.1+cu124)\n",
      "Requirement already satisfied: numpy in /opt/conda/lib/python3.11/site-packages (from bitsandbytes) (2.1.2)\n",
      "Requirement already satisfied: filelock in /opt/conda/lib/python3.11/site-packages (from torch->bitsandbytes) (3.16.1)\n",
      "Requirement already satisfied: typing-extensions>=4.8.0 in /opt/conda/lib/python3.11/site-packages (from torch->bitsandbytes) (4.12.2)\n",
      "Requirement already satisfied: networkx in /opt/conda/lib/python3.11/site-packages (from torch->bitsandbytes) (3.4.2)\n",
      "Requirement already satisfied: jinja2 in /opt/conda/lib/python3.11/site-packages (from torch->bitsandbytes) (3.1.4)\n",
      "Requirement already satisfied: fsspec in /opt/conda/lib/python3.11/site-packages (from torch->bitsandbytes) (2024.9.0)\n",
      "Requirement already satisfied: nvidia-cuda-nvrtc-cu12==12.4.127 in /opt/conda/lib/python3.11/site-packages (from torch->bitsandbytes) (12.4.127)\n",
      "Requirement already satisfied: nvidia-cuda-runtime-cu12==12.4.127 in /opt/conda/lib/python3.11/site-packages (from torch->bitsandbytes) (12.4.127)\n",
      "Requirement already satisfied: nvidia-cuda-cupti-cu12==12.4.127 in /opt/conda/lib/python3.11/site-packages (from torch->bitsandbytes) (12.4.127)\n",
      "Requirement already satisfied: nvidia-cudnn-cu12==9.1.0.70 in /opt/conda/lib/python3.11/site-packages (from torch->bitsandbytes) (9.1.0.70)\n",
      "Requirement already satisfied: nvidia-cublas-cu12==12.4.5.8 in /opt/conda/lib/python3.11/site-packages (from torch->bitsandbytes) (12.4.5.8)\n",
      "Requirement already satisfied: nvidia-cufft-cu12==11.2.1.3 in /opt/conda/lib/python3.11/site-packages (from torch->bitsandbytes) (11.2.1.3)\n",
      "Requirement already satisfied: nvidia-curand-cu12==10.3.5.147 in /opt/conda/lib/python3.11/site-packages (from torch->bitsandbytes) (10.3.5.147)\n",
      "Requirement already satisfied: nvidia-cusolver-cu12==11.6.1.9 in /opt/conda/lib/python3.11/site-packages (from torch->bitsandbytes) (11.6.1.9)\n",
      "Requirement already satisfied: nvidia-cusparse-cu12==12.3.1.170 in /opt/conda/lib/python3.11/site-packages (from torch->bitsandbytes) (12.3.1.170)\n",
      "Requirement already satisfied: nvidia-nccl-cu12==2.21.5 in /opt/conda/lib/python3.11/site-packages (from torch->bitsandbytes) (2.21.5)\n",
      "Requirement already satisfied: nvidia-nvtx-cu12==12.4.127 in /opt/conda/lib/python3.11/site-packages (from torch->bitsandbytes) (12.4.127)\n",
      "Requirement already satisfied: nvidia-nvjitlink-cu12==12.4.127 in /opt/conda/lib/python3.11/site-packages (from torch->bitsandbytes) (12.4.127)\n",
      "Requirement already satisfied: triton==3.1.0 in /opt/conda/lib/python3.11/site-packages (from torch->bitsandbytes) (3.1.0)\n",
      "Requirement already satisfied: sympy==1.13.1 in /opt/conda/lib/python3.11/site-packages (from torch->bitsandbytes) (1.13.1)\n",
      "Requirement already satisfied: mpmath<1.4,>=1.1.0 in /opt/conda/lib/python3.11/site-packages (from sympy==1.13.1->torch->bitsandbytes) (1.3.0)\n",
      "Requirement already satisfied: MarkupSafe>=2.0 in /opt/conda/lib/python3.11/site-packages (from jinja2->torch->bitsandbytes) (3.0.2)\n",
      "Downloading bitsandbytes-0.44.1-py3-none-manylinux_2_24_x86_64.whl (122.4 MB)\n",
      "\u001b[2K   \u001b[90m━━━━━━━━━━━━━━━━━━━━━━━━━━━━━━━━━━━━━━━\u001b[0m \u001b[32m122.4/122.4 MB\u001b[0m \u001b[31m211.7 MB/s\u001b[0m eta \u001b[36m0:00:00\u001b[0m00:01\u001b[0m00:01\u001b[0m\n",
      "\u001b[?25hInstalling collected packages: bitsandbytes\n",
      "Successfully installed bitsandbytes-0.44.1\n",
      "\u001b[33mWARNING: Running pip as the 'root' user can result in broken permissions and conflicting behaviour with the system package manager, possibly rendering your system unusable.It is recommended to use a virtual environment instead: https://pip.pypa.io/warnings/venv. Use the --root-user-action option if you know what you are doing and want to suppress this warning.\u001b[0m\u001b[33m\n",
      "\u001b[0m"
     ]
    }
   ],
   "source": [
    "!pip install bitsandbytes\n"
   ]
  },
  {
   "cell_type": "code",
   "execution_count": null,
   "id": "3d8d1c2b-a5e0-4ffb-83f4-ce0495699d7c",
   "metadata": {},
   "outputs": [
    {
     "name": "stdout",
     "output_type": "stream",
     "text": [
      "Map: 100%|███████████████████████████| 3000/3000 [16:06<00:00,  3.10 examples/s]\n",
      "\u001b[34m\u001b[1mwandb\u001b[0m: Currently logged in as: \u001b[33mfhai50032\u001b[0m. Use \u001b[1m`wandb login --relogin`\u001b[0m to force relogin\n",
      "\u001b[34m\u001b[1mwandb\u001b[0m: Tracking run with wandb version 0.18.7\n",
      "\u001b[34m\u001b[1mwandb\u001b[0m: Run data is saved locally in \u001b[35m\u001b[1m/diffusers/examples/controlnet/wandb/run-20241126_161755-olee04a1\u001b[0m\n",
      "\u001b[34m\u001b[1mwandb\u001b[0m: Run \u001b[1m`wandb offline`\u001b[0m to turn off syncing.\n",
      "\u001b[34m\u001b[1mwandb\u001b[0m: Syncing run \u001b[33mexalted-pine-3\u001b[0m\n",
      "\u001b[34m\u001b[1mwandb\u001b[0m: ⭐️ View project at \u001b[34m\u001b[4mhttps://wandb.ai/fhai50032/flux_train_controlnet\u001b[0m\n",
      "\u001b[34m\u001b[1mwandb\u001b[0m: 🚀 View run at \u001b[34m\u001b[4mhttps://wandb.ai/fhai50032/flux_train_controlnet/runs/olee04a1\u001b[0m\n",
      "11/26/2024 16:17:55 - INFO - __main__ - ***** Running training *****\n",
      "11/26/2024 16:17:55 - INFO - __main__ -   Num examples = 3000\n",
      "11/26/2024 16:17:55 - INFO - __main__ -   Num batches each epoch = 1500\n",
      "11/26/2024 16:17:55 - INFO - __main__ -   Num Epochs = 6\n",
      "11/26/2024 16:17:55 - INFO - __main__ -   Instantaneous batch size per device = 2\n",
      "11/26/2024 16:17:55 - INFO - __main__ -   Total train batch size (w. parallel, distributed & accumulation) = 6\n",
      "11/26/2024 16:17:55 - INFO - __main__ -   Gradient Accumulation steps = 3\n",
      "11/26/2024 16:17:55 - INFO - __main__ -   Total optimization steps = 3000\n",
      "Steps:   3%|▎       | 100/3000 [12:39<6:08:03,  7.62s/it, loss=0.36, lr=5.94e-6]11/26/2024 16:30:35 - INFO - accelerate.accelerator - Saving current state to text-controlnet/checkpoint-100\n",
      "Configuration saved in text-controlnet/checkpoint-100/flux_controlnet/config.json\n",
      "Model weights saved in text-controlnet/checkpoint-100/flux_controlnet/diffusion_pytorch_model.safetensors\n",
      "11/26/2024 16:30:44 - INFO - accelerate.checkpointing - Optimizer state saved in text-controlnet/checkpoint-100/optimizer.bin\n",
      "11/26/2024 16:30:44 - INFO - accelerate.checkpointing - Scheduler state saved in text-controlnet/checkpoint-100/scheduler.bin\n",
      "11/26/2024 16:30:44 - INFO - accelerate.checkpointing - Sampler state for dataloader 0 saved in text-controlnet/checkpoint-100/sampler.bin\n",
      "11/26/2024 16:30:44 - INFO - accelerate.checkpointing - Random states saved in text-controlnet/checkpoint-100/random_states_0.pkl\n",
      "11/26/2024 16:30:44 - INFO - __main__ - Saved state to text-controlnet/checkpoint-100\n",
      "Steps:   4%|▎       | 115/3000 [14:43<6:02:30,  7.54s/it, loss=0.391, lr=6.9e-6]"
     ]
    }
   ],
   "source": [
    "!accelerate launch train_controlnet_flux.py \\\n",
    "    --pretrained_model_name_or_path=\"black-forest-labs/FLUX.1-dev\" \\\n",
    "    --dataset_name=\"fhai50032/ControlNet-Poster\" \\\n",
    "    --conditioning_image_column=\"conditional_image\" \\\n",
    "    --image_column=\"image\" \\\n",
    "    --caption_column=\"caption\" \\\n",
    "    --output_dir=\"text-controlnet\" \\\n",
    "    --mixed_precision=\"bf16\" \\\n",
    "    --resolution=512 \\\n",
    "    --learning_rate=3e-5 \\\n",
    "    --max_train_steps=3000 \\\n",
    "    --train_batch_size=2 \\\n",
    "    --gradient_accumulation_steps=3 \\\n",
    "    --report_to=\"wandb\" \\\n",
    "    --num_double_layers=4 \\\n",
    "    --num_single_layers=2 \\\n",
    "    --seed=42 \\\n",
    "    --lr_scheduler \"cosine\" \\\n",
    "    --checkpointing_steps 100 \\\n",
    "    --max_train_samples 3000 \\\n",
    "    --use_adafactor \\\n",
    "    --push_to_hub"
   ]
  }
 ],
 "metadata": {
  "kernelspec": {
   "display_name": "Python 3 (ipykernel)",
   "language": "python",
   "name": "python3"
  },
  "language_info": {
   "codemirror_mode": {
    "name": "ipython",
    "version": 3
   },
   "file_extension": ".py",
   "mimetype": "text/x-python",
   "name": "python",
   "nbconvert_exporter": "python",
   "pygments_lexer": "ipython3",
   "version": "3.11.10"
  }
 },
 "nbformat": 4,
 "nbformat_minor": 5
}
