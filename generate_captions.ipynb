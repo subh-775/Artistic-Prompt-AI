{
 "cells": [
  {
   "cell_type": "code",
   "execution_count": null,
   "metadata": {
    "_cell_guid": "b1076dfc-b9ad-4769-8c92-a6c4dae69d19",
    "_uuid": "8f2839f25d086af736a60e9eeb907d3b93b6e0e5",
    "editable": false,
    "trusted": true
   },
   "outputs": [],
   "source": [
    "!pip install torch torchvision transformers Pillow accelerate datasets einops"
   ]
  },
  {
   "cell_type": "code",
   "execution_count": null,
   "metadata": {
    "editable": false,
    "execution": {
     "iopub.execute_input": "2024-10-22T19:03:15.603565Z",
     "iopub.status.busy": "2024-10-22T19:03:15.603136Z",
     "iopub.status.idle": "2024-10-22T19:03:21.689047Z",
     "shell.execute_reply": "2024-10-22T19:03:21.688240Z",
     "shell.execute_reply.started": "2024-10-22T19:03:15.603524Z"
    },
    "trusted": true
   },
   "outputs": [],
   "source": [
    "import torch\n",
    "from transformers import AutoModelForCausalLM, AutoTokenizer\n",
    "from PIL import Image\n",
    "from datasets import Dataset, Features, Value, Image as DatasetImage\n",
    "import os\n",
    "from tqdm import tqdm\n",
    "\n",
    "# Ensure to enable GPU usage\n",
    "device = \"cuda\" if torch.cuda.is_available() else \"cpu\"\n",
    "\n",
    "# Load the model and tokenizer with CPU offload enabled\n",
    "model_id = \"vikhyatk/moondream2\"\n",
    "revision = \"2024-08-26\""
   ]
  },
  {
   "cell_type": "code",
   "execution_count": null,
   "metadata": {
    "editable": false,
    "execution": {
     "iopub.execute_input": "2024-10-22T19:03:24.585622Z",
     "iopub.status.busy": "2024-10-22T19:03:24.584670Z",
     "iopub.status.idle": "2024-10-22T19:03:53.313686Z",
     "shell.execute_reply": "2024-10-22T19:03:53.312790Z",
     "shell.execute_reply.started": "2024-10-22T19:03:24.585579Z"
    },
    "trusted": true
   },
   "outputs": [],
   "source": [
    "model = AutoModelForCausalLM.from_pretrained(\n",
    "    model_id,\n",
    "    trust_remote_code=True,\n",
    "    revision=revision,\n",
    "    device_map=device,  # Specify folder for offloading to CPU\n",
    "    offload_state_dict=True  # Enable offloading for state dict\n",
    ")\n",
    "\n",
    "tokenizer = AutoTokenizer.from_pretrained(model_id, revision=revision)"
   ]
  },
  {
   "cell_type": "code",
   "execution_count": null,
   "metadata": {
    "editable": false,
    "execution": {
     "iopub.execute_input": "2024-10-22T19:03:58.995885Z",
     "iopub.status.busy": "2024-10-22T19:03:58.995509Z",
     "iopub.status.idle": "2024-10-22T19:03:59.001609Z",
     "shell.execute_reply": "2024-10-22T19:03:59.000582Z",
     "shell.execute_reply.started": "2024-10-22T19:03:58.995848Z"
    },
    "trusted": true
   },
   "outputs": [],
   "source": [
    "from datasets import load_dataset\n",
    "images_ds=load_dataset(\"Subh775/Extracted_Movies_dataset\",split=\"train[:10]\")\n",
    "images_ds"
   ]
  },
  {
   "cell_type": "code",
   "execution_count": null,
   "metadata": {
    "editable": false,
    "execution": {
     "iopub.execute_input": "2024-10-22T19:04:02.149472Z",
     "iopub.status.busy": "2024-10-22T19:04:02.149082Z",
     "iopub.status.idle": "2024-10-22T19:04:06.490876Z",
     "shell.execute_reply": "2024-10-22T19:04:06.489666Z",
     "shell.execute_reply.started": "2024-10-22T19:04:02.149436Z"
    },
    "trusted": true
   },
   "outputs": [],
   "source": [
    "import requests\n",
    "from tqdm import tqdm\n",
    "from datasets import load_dataset\n",
    "from PIL import Image\n",
    "from io import BytesIO\n",
    "\n",
    "def generate_caption(image, model, tokenizer, device):\n",
    "    # image = Image.open(image_path).convert('RGB')  # Ensure image is in RGB mode\n",
    "    enc_image = model.encode_image(image).to(device)  # Encode image and move to device\n",
    "\n",
    "    question = \"Include the type of sale, colors, main design elements, layout, and any text that is visible in the image ,but exclude any promotional text or filler text \"\n",
    "\n",
    "    # Generate the caption using the model\n",
    "    caption = model.answer_question(enc_image, question, tokenizer)\n",
    "\n",
    "    return caption\n",
    "\n",
    "\n",
    "def fetch_image(image_url):\n",
    "    try:\n",
    "        # Stream the request for efficient memory usage\n",
    "        response = requests.get(image_url, stream=True)\n",
    "        response.raise_for_status()\n",
    "\n",
    "        # Load and convert image to RGB\n",
    "        image = Image.open(BytesIO(response.content)).convert(\"RGB\")\n",
    "        return image\n",
    "\n",
    "    except requests.exceptions.RequestException as e:\n",
    "        print(f\"Request error: {e}\")\n",
    "        return None\n",
    "    except (Image.UnidentifiedImageError, IOError) as e:\n",
    "        print(f\"Image processing error: {e}\")\n",
    "        return None\n",
    "\n",
    "def process_images(images_ds, model, tokenizer, device):\n",
    "    dataset_dict = {\n",
    "        \"image\": [],\n",
    "        \"caption\": []\n",
    "    }\n",
    "\n",
    "    total_images = len(images_ds)\n",
    "\n",
    "    with tqdm(total=total_images, desc=\"Processing All Images\") as pbar:\n",
    "        for entry in images_ds:\n",
    "            image_url = entry['Poster']\n",
    "\n",
    "            image = fetch_image(image_url)\n",
    "            if image:\n",
    "                try:\n",
    "                    caption = generate_caption(image, model, tokenizer, device)\n",
    "                    dataset_dict[\"image\"].append(image)\n",
    "                    dataset_dict[\"caption\"].append(caption)\n",
    "                except Exception as e:\n",
    "                    print(f\"Error generating caption for image from {image_url}: {e}\")\n",
    "\n",
    "            pbar.update(1)\n",
    "\n",
    "    return dataset_dict\n",
    "\n",
    "# images_ds = load_dataset(\"Subh775/Extracted_Movies_dataset\", split=\"train\").select(range(1500))\n",
    "# dataset_dict = process_images(images_ds, model, tokenizer, device)\n"
   ]
  },
  {
   "cell_type": "code",
   "execution_count": null,
   "metadata": {
    "editable": false,
    "trusted": true
   },
   "outputs": [],
   "source": [
    "# image_directory = r'/kaggle/working/'  # Replace with your base directory containing subfolders\n",
    "\n",
    "# Process all images across folders\n",
    "dataset_dict = process_images(images_ds, model, tokenizer, device)"
   ]
  },
  {
   "cell_type": "code",
   "execution_count": null,
   "metadata": {
    "editable": false,
    "execution": {
     "iopub.execute_input": "2024-10-22T19:05:03.873158Z",
     "iopub.status.busy": "2024-10-22T19:05:03.872232Z",
     "iopub.status.idle": "2024-10-22T19:05:03.882960Z",
     "shell.execute_reply": "2024-10-22T19:05:03.882076Z",
     "shell.execute_reply.started": "2024-10-22T19:05:03.873116Z"
    },
    "trusted": true
   },
   "outputs": [],
   "source": [
    "# Define dataset features\n",
    "features = Features({\n",
    "    \"image\": DatasetImage(),  # Define image field using Hugging Face dataset Image format\n",
    "    \"caption\": Value(\"string\")  # Captions as text\n",
    "})\n",
    "\n",
    "# Create dataset from dictionary\n",
    "dataset = Dataset.from_dict(dataset_dict, features=features)\n",
    "\n",
    "dataset.push_to_hub(\"Subh775/movies_caption\",token=\"Replace_with_your_tokens\")\n",
    "\n",
    "!pkill jupyter"
   ]
  },
  {
   "cell_type": "code",
   "execution_count": null,
   "metadata": {
    "editable": false,
    "execution": {
     "iopub.execute_input": "2024-10-22T19:05:08.126444Z",
     "iopub.status.busy": "2024-10-22T19:05:08.125712Z",
     "iopub.status.idle": "2024-10-22T21:18:55.544623Z",
     "shell.execute_reply": "2024-10-22T21:18:55.543670Z",
     "shell.execute_reply.started": "2024-10-22T19:05:08.126405Z"
    },
    "trusted": true
   },
   "outputs": [],
   "source": [
    "features = Features({\n",
    "    \"image\": DatasetImage(),  # Define image field using Hugging Face dataset Image format\n",
    "    \"caption\": Value(\"string\")  # Captions as text\n",
    "})\n",
    "\n",
    "# Create dataset from dictionary\n",
    "dataset = Dataset.from_dict(dataset_dict, features=features)"
   ]
  },
  {
   "cell_type": "code",
   "execution_count": null,
   "metadata": {
    "editable": false,
    "execution": {
     "iopub.execute_input": "2024-10-22T21:18:55.546469Z",
     "iopub.status.busy": "2024-10-22T21:18:55.546139Z",
     "iopub.status.idle": "2024-10-22T21:19:31.885806Z",
     "shell.execute_reply": "2024-10-22T21:19:31.884784Z",
     "shell.execute_reply.started": "2024-10-22T21:18:55.546435Z"
    },
    "trusted": true
   },
   "outputs": [],
   "source": [
    "#view the caption generated by the loaded model for the image [index]\n",
    "dataset[8]"
   ]
  }
 ],
 "metadata": {
  "kaggle": {
   "accelerator": "gpu",
   "dataSources": [],
   "dockerImageVersionId": 30787,
   "isGpuEnabled": true,
   "isInternetEnabled": true,
   "language": "python",
   "sourceType": "notebook"
  },
  "kernelspec": {
   "display_name": "Python 3",
   "language": "python",
   "name": "python3"
  },
  "language_info": {
   "codemirror_mode": {
    "name": "ipython",
    "version": 3
   },
   "file_extension": ".py",
   "mimetype": "text/x-python",
   "name": "python",
   "nbconvert_exporter": "python",
   "pygments_lexer": "ipython3",
   "version": "3.10.14"
  }
 },
 "nbformat": 4,
 "nbformat_minor": 4
}
